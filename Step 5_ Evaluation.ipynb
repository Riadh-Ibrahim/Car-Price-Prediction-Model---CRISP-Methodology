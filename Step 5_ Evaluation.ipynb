{
 "cells": [
  {
   "cell_type": "code",
   "execution_count": 1,
   "metadata": {
    "cell_id": "e9ec330bef494367866f140c88539153",
    "deepnote_cell_type": "code",
    "execution_context_id": "c73f653e-fcbe-4873-8001-55b4502c1485",
    "execution_millis": 862,
    "execution_start": 1734373805063,
    "source_hash": "d6328b12"
   },
   "outputs": [],
   "source": [
    "import pandas as pd \n",
    "import numpy as np\n",
    "from datetime import datetime\n",
    "import seaborn as sns\n",
    "import matplotlib.pyplot as plt\n",
    "import seaborn as sns"
   ]
  },
  {
   "cell_type": "code",
   "execution_count": 2,
   "metadata": {
    "cell_id": "0f69f246d3f340109a63c1275e6901bc",
    "deepnote_cell_type": "code",
    "execution_context_id": "c73f653e-fcbe-4873-8001-55b4502c1485",
    "execution_millis": 203,
    "execution_start": 1734373874083,
    "source_hash": "89d2d65e"
   },
   "outputs": [],
   "source": [
    "df= pd.read_csv(\"/work/FinalDF.csv\")"
   ]
  },
  {
   "cell_type": "code",
   "execution_count": 3,
   "metadata": {
    "cell_id": "708583b825c84c5cab8ce92d400d22b2",
    "deepnote_cell_type": "code",
    "execution_context_id": "c73f653e-fcbe-4873-8001-55b4502c1485",
    "execution_millis": 33,
    "execution_start": 1734373886726,
    "source_hash": "f804c160"
   },
   "outputs": [
    {
     "data": {
      "application/vnd.deepnote.dataframe.v3+json": {
       "column_count": 10,
       "columns": [
        {
         "dtype": "int64",
         "name": "Unnamed: 0",
         "stats": {
          "histogram": [
           {
            "bin_end": 391.9,
            "bin_start": 0,
            "count": 387
           },
           {
            "bin_end": 783.8,
            "bin_start": 391.9,
            "count": 377
           },
           {
            "bin_end": 1175.6999999999998,
            "bin_start": 783.8,
            "count": 382
           },
           {
            "bin_end": 1567.6,
            "bin_start": 1175.6999999999998,
            "count": 361
           },
           {
            "bin_end": 1959.5,
            "bin_start": 1567.6,
            "count": 380
           },
           {
            "bin_end": 2351.3999999999996,
            "bin_start": 1959.5,
            "count": 379
           },
           {
            "bin_end": 2743.2999999999997,
            "bin_start": 2351.3999999999996,
            "count": 374
           },
           {
            "bin_end": 3135.2,
            "bin_start": 2743.2999999999997,
            "count": 369
           },
           {
            "bin_end": 3527.1,
            "bin_start": 3135.2,
            "count": 376
           },
           {
            "bin_end": 3919,
            "bin_start": 3527.1,
            "count": 392
           }
          ],
          "max": "3919",
          "min": "0",
          "nan_count": 0,
          "unique_count": 3777
         }
        },
        {
         "dtype": "object",
         "name": "Brand",
         "stats": {
          "categories": [
           {
            "count": 456,
            "name": "Peugeot"
           },
           {
            "count": 415,
            "name": "Volkswagen"
           },
           {
            "count": 2906,
            "name": "64 others"
           }
          ],
          "nan_count": 0,
          "unique_count": 66
         }
        },
        {
         "dtype": "object",
         "name": "Model",
         "stats": {
          "categories": [
           {
            "count": 153,
            "name": "Golf"
           },
           {
            "count": 3618,
            "name": "545 others"
           },
           {
            "count": 6,
            "name": "Missing"
           }
          ],
          "nan_count": 6,
          "unique_count": 546
         }
        },
        {
         "dtype": "object",
         "name": "Status",
         "stats": {
          "categories": [
           {
            "count": 3329,
            "name": "occasion"
           },
           {
            "count": 448,
            "name": "neuf"
           }
          ],
          "nan_count": 0,
          "unique_count": 2
         }
        },
        {
         "dtype": "object",
         "name": "Fuel_Type",
         "stats": {
          "categories": [
           {
            "count": 2740,
            "name": "Essence"
           },
           {
            "count": 982,
            "name": "Diesel"
           },
           {
            "count": 55,
            "name": "3 others"
           }
          ],
          "nan_count": 0,
          "unique_count": 5
         }
        },
        {
         "dtype": "object",
         "name": "Transmission",
         "stats": {
          "categories": [
           {
            "count": 2884,
            "name": "Manuelle"
           },
           {
            "count": 892,
            "name": "Automatique"
           },
           {
            "count": 1,
            "name": "Missing"
           }
          ],
          "nan_count": 1,
          "unique_count": 2
         }
        },
        {
         "dtype": "float64",
         "name": "Horse_power",
         "stats": {
          "histogram": [
           {
            "bin_end": 5.2,
            "bin_start": 1,
            "count": 1827
           },
           {
            "bin_end": 9.4,
            "bin_start": 5.2,
            "count": 1592
           },
           {
            "bin_end": 13.600000000000001,
            "bin_start": 9.4,
            "count": 262
           },
           {
            "bin_end": 17.8,
            "bin_start": 13.600000000000001,
            "count": 47
           },
           {
            "bin_end": 22,
            "bin_start": 17.8,
            "count": 26
           },
           {
            "bin_end": 26.200000000000003,
            "bin_start": 22,
            "count": 9
           },
           {
            "bin_end": 30.400000000000002,
            "bin_start": 26.200000000000003,
            "count": 4
           },
           {
            "bin_end": 34.6,
            "bin_start": 30.400000000000002,
            "count": 5
           },
           {
            "bin_end": 38.800000000000004,
            "bin_start": 34.6,
            "count": 1
           },
           {
            "bin_end": 43,
            "bin_start": 38.800000000000004,
            "count": 4
           }
          ],
          "max": "43.0",
          "min": "1.0",
          "nan_count": 0,
          "unique_count": 33
         }
        },
        {
         "dtype": "int64",
         "name": "Age",
         "stats": {
          "histogram": [
           {
            "bin_end": 6.4,
            "bin_start": 0,
            "count": 1605
           },
           {
            "bin_end": 12.8,
            "bin_start": 6.4,
            "count": 996
           },
           {
            "bin_end": 19.200000000000003,
            "bin_start": 12.8,
            "count": 655
           },
           {
            "bin_end": 25.6,
            "bin_start": 19.200000000000003,
            "count": 310
           },
           {
            "bin_end": 32,
            "bin_start": 25.6,
            "count": 125
           },
           {
            "bin_end": 38.400000000000006,
            "bin_start": 32,
            "count": 56
           },
           {
            "bin_end": 44.800000000000004,
            "bin_start": 38.400000000000006,
            "count": 23
           },
           {
            "bin_end": 51.2,
            "bin_start": 44.800000000000004,
            "count": 3
           },
           {
            "bin_end": 57.6,
            "bin_start": 51.2,
            "count": 0
           },
           {
            "bin_end": 64,
            "bin_start": 57.6,
            "count": 4
           }
          ],
          "max": "64",
          "min": "0",
          "nan_count": 0,
          "unique_count": 49
         }
        },
        {
         "dtype": "int64",
         "name": "MileagePerYear",
         "stats": {
          "histogram": [
           {
            "bin_end": 15431.1,
            "bin_start": 0,
            "count": 2165
           },
           {
            "bin_end": 30862.2,
            "bin_start": 15431.1,
            "count": 1379
           },
           {
            "bin_end": 46293.3,
            "bin_start": 30862.2,
            "count": 177
           },
           {
            "bin_end": 61724.4,
            "bin_start": 46293.3,
            "count": 25
           },
           {
            "bin_end": 77155.5,
            "bin_start": 61724.4,
            "count": 13
           },
           {
            "bin_end": 92586.6,
            "bin_start": 77155.5,
            "count": 7
           },
           {
            "bin_end": 108017.7,
            "bin_start": 92586.6,
            "count": 3
           },
           {
            "bin_end": 123448.8,
            "bin_start": 108017.7,
            "count": 2
           },
           {
            "bin_end": 138879.9,
            "bin_start": 123448.8,
            "count": 2
           },
           {
            "bin_end": 154311,
            "bin_start": 138879.9,
            "count": 4
           }
          ],
          "max": "154311",
          "min": "0",
          "nan_count": 0,
          "unique_count": 1468
         }
        },
        {
         "dtype": "float64",
         "name": "Price",
         "stats": {
          "histogram": [
           {
            "bin_end": 109900,
            "bin_start": 5000,
            "count": 3349
           },
           {
            "bin_end": 214800,
            "bin_start": 109900,
            "count": 316
           },
           {
            "bin_end": 319700,
            "bin_start": 214800,
            "count": 58
           },
           {
            "bin_end": 424600,
            "bin_start": 319700,
            "count": 30
           },
           {
            "bin_end": 529500,
            "bin_start": 424600,
            "count": 7
           },
           {
            "bin_end": 634400,
            "bin_start": 529500,
            "count": 10
           },
           {
            "bin_end": 739300,
            "bin_start": 634400,
            "count": 4
           },
           {
            "bin_end": 844200,
            "bin_start": 739300,
            "count": 1
           },
           {
            "bin_end": 949100,
            "bin_start": 844200,
            "count": 1
           },
           {
            "bin_end": 1054000,
            "bin_start": 949100,
            "count": 1
           }
          ],
          "max": "1054000.0",
          "min": "5000.0",
          "nan_count": 0,
          "unique_count": 743
         }
        },
        {
         "dtype": "int64",
         "name": "_deepnote_index_column"
        }
       ],
       "row_count": 3777,
       "rows": [
        {
         "Age": 24,
         "Brand": "Alfa Romeo",
         "Fuel_Type": "Essence",
         "Horse_power": 8,
         "MileagePerYear": 12500,
         "Model": "156",
         "Price": 111110,
         "Status": "occasion",
         "Transmission": "Manuelle",
         "Unnamed: 0": 0,
         "_deepnote_index_column": 0
        },
        {
         "Age": 16,
         "Brand": "Alfa Romeo",
         "Fuel_Type": "Diesel",
         "Horse_power": 6,
         "MileagePerYear": 12500,
         "Model": "159",
         "Price": 26500,
         "Status": "occasion",
         "Transmission": "Manuelle",
         "Unnamed: 0": 1,
         "_deepnote_index_column": 1
        },
        {
         "Age": 9,
         "Brand": "Alfa Romeo",
         "Fuel_Type": "Essence",
         "Horse_power": 7,
         "MileagePerYear": 18891,
         "Model": "Giulietta",
         "Price": 38000,
         "Status": "occasion",
         "Transmission": "Manuelle",
         "Unnamed: 0": 2,
         "_deepnote_index_column": 2
        },
        {
         "Age": 9,
         "Brand": "Alfa Romeo",
         "Fuel_Type": "Essence",
         "Horse_power": 9,
         "MileagePerYear": 20222,
         "Model": "Giulietta",
         "Price": 43000,
         "Status": "occasion",
         "Transmission": "Automatique",
         "Unnamed: 0": 3,
         "_deepnote_index_column": 3
        },
        {
         "Age": 14,
         "Brand": "Alfa Romeo",
         "Fuel_Type": "Essence",
         "Horse_power": 9,
         "MileagePerYear": 10714,
         "Model": "Mito",
         "Price": 36900,
         "Status": "occasion",
         "Transmission": "Manuelle",
         "Unnamed: 0": 4,
         "_deepnote_index_column": 4
        },
        {
         "Age": 13,
         "Brand": "Alfa Romeo",
         "Fuel_Type": "Essence",
         "Horse_power": 5,
         "MileagePerYear": 13692,
         "Model": "Mito",
         "Price": 32000,
         "Status": "occasion",
         "Transmission": "Manuelle",
         "Unnamed: 0": 5,
         "_deepnote_index_column": 5
        },
        {
         "Age": 11,
         "Brand": "Alfa Romeo",
         "Fuel_Type": "Essence",
         "Horse_power": 6,
         "MileagePerYear": 16363,
         "Model": "Mito",
         "Price": 28000,
         "Status": "occasion",
         "Transmission": "Manuelle",
         "Unnamed: 0": 6,
         "_deepnote_index_column": 6
        },
        {
         "Age": 0,
         "Brand": "Renault",
         "Fuel_Type": "Hybride",
         "Horse_power": 5,
         "MileagePerYear": 0,
         "Model": "Clio",
         "Price": 110000,
         "Status": "occasion",
         "Transmission": "Automatique",
         "Unnamed: 0": 7,
         "_deepnote_index_column": 7
        },
        {
         "Age": 38,
         "Brand": "Audi",
         "Fuel_Type": "Diesel",
         "Horse_power": 7,
         "MileagePerYear": 3588,
         "Model": "100",
         "Price": 11000,
         "Status": "occasion",
         "Transmission": "Manuelle",
         "Unnamed: 0": 8,
         "_deepnote_index_column": 8
        },
        {
         "Age": 2,
         "Brand": "Audi",
         "Fuel_Type": "Essence",
         "Horse_power": 4,
         "MileagePerYear": 68179,
         "Model": "50",
         "Price": 7000,
         "Status": "occasion",
         "Transmission": "Manuelle",
         "Unnamed: 0": 9,
         "_deepnote_index_column": 9
        }
       ]
      },
      "text/html": [
       "<div>\n",
       "<style scoped>\n",
       "    .dataframe tbody tr th:only-of-type {\n",
       "        vertical-align: middle;\n",
       "    }\n",
       "\n",
       "    .dataframe tbody tr th {\n",
       "        vertical-align: top;\n",
       "    }\n",
       "\n",
       "    .dataframe thead th {\n",
       "        text-align: right;\n",
       "    }\n",
       "</style>\n",
       "<table border=\"1\" class=\"dataframe\">\n",
       "  <thead>\n",
       "    <tr style=\"text-align: right;\">\n",
       "      <th></th>\n",
       "      <th>Unnamed: 0</th>\n",
       "      <th>Brand</th>\n",
       "      <th>Model</th>\n",
       "      <th>Status</th>\n",
       "      <th>Fuel_Type</th>\n",
       "      <th>Transmission</th>\n",
       "      <th>Horse_power</th>\n",
       "      <th>Age</th>\n",
       "      <th>MileagePerYear</th>\n",
       "      <th>Price</th>\n",
       "    </tr>\n",
       "  </thead>\n",
       "  <tbody>\n",
       "    <tr>\n",
       "      <th>0</th>\n",
       "      <td>0</td>\n",
       "      <td>Alfa Romeo</td>\n",
       "      <td>156</td>\n",
       "      <td>occasion</td>\n",
       "      <td>Essence</td>\n",
       "      <td>Manuelle</td>\n",
       "      <td>8.0</td>\n",
       "      <td>24</td>\n",
       "      <td>12500</td>\n",
       "      <td>111110.0</td>\n",
       "    </tr>\n",
       "    <tr>\n",
       "      <th>1</th>\n",
       "      <td>1</td>\n",
       "      <td>Alfa Romeo</td>\n",
       "      <td>159</td>\n",
       "      <td>occasion</td>\n",
       "      <td>Diesel</td>\n",
       "      <td>Manuelle</td>\n",
       "      <td>6.0</td>\n",
       "      <td>16</td>\n",
       "      <td>12500</td>\n",
       "      <td>26500.0</td>\n",
       "    </tr>\n",
       "    <tr>\n",
       "      <th>2</th>\n",
       "      <td>2</td>\n",
       "      <td>Alfa Romeo</td>\n",
       "      <td>Giulietta</td>\n",
       "      <td>occasion</td>\n",
       "      <td>Essence</td>\n",
       "      <td>Manuelle</td>\n",
       "      <td>7.0</td>\n",
       "      <td>9</td>\n",
       "      <td>18891</td>\n",
       "      <td>38000.0</td>\n",
       "    </tr>\n",
       "    <tr>\n",
       "      <th>3</th>\n",
       "      <td>3</td>\n",
       "      <td>Alfa Romeo</td>\n",
       "      <td>Giulietta</td>\n",
       "      <td>occasion</td>\n",
       "      <td>Essence</td>\n",
       "      <td>Automatique</td>\n",
       "      <td>9.0</td>\n",
       "      <td>9</td>\n",
       "      <td>20222</td>\n",
       "      <td>43000.0</td>\n",
       "    </tr>\n",
       "    <tr>\n",
       "      <th>4</th>\n",
       "      <td>4</td>\n",
       "      <td>Alfa Romeo</td>\n",
       "      <td>Mito</td>\n",
       "      <td>occasion</td>\n",
       "      <td>Essence</td>\n",
       "      <td>Manuelle</td>\n",
       "      <td>9.0</td>\n",
       "      <td>14</td>\n",
       "      <td>10714</td>\n",
       "      <td>36900.0</td>\n",
       "    </tr>\n",
       "    <tr>\n",
       "      <th>...</th>\n",
       "      <td>...</td>\n",
       "      <td>...</td>\n",
       "      <td>...</td>\n",
       "      <td>...</td>\n",
       "      <td>...</td>\n",
       "      <td>...</td>\n",
       "      <td>...</td>\n",
       "      <td>...</td>\n",
       "      <td>...</td>\n",
       "      <td>...</td>\n",
       "    </tr>\n",
       "    <tr>\n",
       "      <th>3772</th>\n",
       "      <td>3915</td>\n",
       "      <td>Volvo</td>\n",
       "      <td>S90</td>\n",
       "      <td>neuf</td>\n",
       "      <td>Essence</td>\n",
       "      <td>Automatique</td>\n",
       "      <td>15.0</td>\n",
       "      <td>0</td>\n",
       "      <td>0</td>\n",
       "      <td>273900.0</td>\n",
       "    </tr>\n",
       "    <tr>\n",
       "      <th>3773</th>\n",
       "      <td>3916</td>\n",
       "      <td>Volvo</td>\n",
       "      <td>S90</td>\n",
       "      <td>neuf</td>\n",
       "      <td>Essence</td>\n",
       "      <td>Automatique</td>\n",
       "      <td>15.0</td>\n",
       "      <td>0</td>\n",
       "      <td>0</td>\n",
       "      <td>289900.0</td>\n",
       "    </tr>\n",
       "    <tr>\n",
       "      <th>3774</th>\n",
       "      <td>3917</td>\n",
       "      <td>Volvo</td>\n",
       "      <td>Xc90</td>\n",
       "      <td>neuf</td>\n",
       "      <td>Essence</td>\n",
       "      <td>Automatique</td>\n",
       "      <td>15.0</td>\n",
       "      <td>0</td>\n",
       "      <td>0</td>\n",
       "      <td>375900.0</td>\n",
       "    </tr>\n",
       "    <tr>\n",
       "      <th>3775</th>\n",
       "      <td>3918</td>\n",
       "      <td>Volvo</td>\n",
       "      <td>Xc90</td>\n",
       "      <td>neuf</td>\n",
       "      <td>Essence</td>\n",
       "      <td>Automatique</td>\n",
       "      <td>20.0</td>\n",
       "      <td>0</td>\n",
       "      <td>0</td>\n",
       "      <td>449900.0</td>\n",
       "    </tr>\n",
       "    <tr>\n",
       "      <th>3776</th>\n",
       "      <td>3919</td>\n",
       "      <td>Wallyscar</td>\n",
       "      <td>Wolf</td>\n",
       "      <td>neuf</td>\n",
       "      <td>Essence</td>\n",
       "      <td>Automatique</td>\n",
       "      <td>9.0</td>\n",
       "      <td>0</td>\n",
       "      <td>0</td>\n",
       "      <td>119900.0</td>\n",
       "    </tr>\n",
       "  </tbody>\n",
       "</table>\n",
       "<p>3777 rows × 10 columns</p>\n",
       "</div>"
      ],
      "text/plain": [
       "      Unnamed: 0       Brand      Model    Status Fuel_Type Transmission  \\\n",
       "0              0  Alfa Romeo        156  occasion   Essence     Manuelle   \n",
       "1              1  Alfa Romeo        159  occasion    Diesel     Manuelle   \n",
       "2              2  Alfa Romeo  Giulietta  occasion   Essence     Manuelle   \n",
       "3              3  Alfa Romeo  Giulietta  occasion   Essence  Automatique   \n",
       "4              4  Alfa Romeo       Mito  occasion   Essence     Manuelle   \n",
       "...          ...         ...        ...       ...       ...          ...   \n",
       "3772        3915       Volvo        S90      neuf   Essence  Automatique   \n",
       "3773        3916       Volvo        S90      neuf   Essence  Automatique   \n",
       "3774        3917       Volvo       Xc90      neuf   Essence  Automatique   \n",
       "3775        3918       Volvo       Xc90      neuf   Essence  Automatique   \n",
       "3776        3919   Wallyscar       Wolf      neuf   Essence  Automatique   \n",
       "\n",
       "      Horse_power  Age  MileagePerYear     Price  \n",
       "0             8.0   24           12500  111110.0  \n",
       "1             6.0   16           12500   26500.0  \n",
       "2             7.0    9           18891   38000.0  \n",
       "3             9.0    9           20222   43000.0  \n",
       "4             9.0   14           10714   36900.0  \n",
       "...           ...  ...             ...       ...  \n",
       "3772         15.0    0               0  273900.0  \n",
       "3773         15.0    0               0  289900.0  \n",
       "3774         15.0    0               0  375900.0  \n",
       "3775         20.0    0               0  449900.0  \n",
       "3776          9.0    0               0  119900.0  \n",
       "\n",
       "[3777 rows x 10 columns]"
      ]
     },
     "execution_count": 3,
     "metadata": {},
     "output_type": "execute_result"
    }
   ],
   "source": [
    "df"
   ]
  },
  {
   "cell_type": "markdown",
   "metadata": {
    "created_in_deepnote_cell": true,
    "deepnote_cell_type": "markdown"
   },
   "source": [
    "<a style='text-decoration:none;line-height:16px;display:flex;color:#5B5B62;padding:10px;justify-content:end;' href='https://deepnote.com?utm_source=created-in-deepnote-cell&projectId=9158155e-c82c-4f23-93c0-dcd070a7ff4c' target=\"_blank\">\n",
    "<img alt='Created in deepnote.com' style='display:inline;max-height:16px;margin:0px;margin-right:7.5px;' src='data:image/svg+xml;base64,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' > </img>\n",
    "Created in <span style='font-weight:600;margin-left:4px;'>Deepnote</span></a>"
   ]
  }
 ],
 "metadata": {
  "deepnote_notebook_id": "7109baeb3630480c89933218447bb14e",
  "language_info": {
   "name": "python"
  }
 },
 "nbformat": 4,
 "nbformat_minor": 0
}
